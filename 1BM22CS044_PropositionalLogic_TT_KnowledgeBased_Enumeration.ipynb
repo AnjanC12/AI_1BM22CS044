{
  "nbformat": 4,
  "nbformat_minor": 0,
  "metadata": {
    "colab": {
      "provenance": []
    },
    "kernelspec": {
      "name": "python3",
      "display_name": "Python 3"
    },
    "language_info": {
      "name": "python"
    }
  },
  "cells": [
    {
      "cell_type": "code",
      "source": [
        "import itertools\n",
        "\n",
        "def implies(x, y):\n",
        "    return not x or y\n",
        "\n",
        "def neg(x):\n",
        "    return not x\n",
        "\n",
        "def or_op(x, y):\n",
        "    return x or y\n",
        "\n",
        "def KB(Q, P, R):\n",
        "    KB_1 = implies(Q, P)\n",
        "    KB_2 = implies(P, neg(Q))\n",
        "    KB_3 = or_op(Q, R)\n",
        "    return KB_1 and KB_2 and KB_3\n",
        "\n",
        "def alpha_R(R):\n",
        "    return R\n",
        "\n",
        "def alpha_R_implies_P(R, P):\n",
        "    return implies(R, P)\n",
        "\n",
        "def alpha_Q_implies_R(Q, R):\n",
        "    return implies(Q, R)\n",
        "\n",
        "# Generate all combinations of truth values for Q, P, R\n",
        "def create_truth_table():\n",
        "    return list(itertools.product([False, True], repeat=3))\n",
        "\n",
        "# Check if KB entails each alpha and print the truth table\n",
        "def check_entailment():\n",
        "    truth_table = create_truth_table()\n",
        "\n",
        "    # Print the header for the truth table\n",
        "    print(f\"{'Q':<5}     {'P':<5}     {'R':<5}     {'KB(Q->P, P->~Q, Q U R)':<25}     {'Alpha(R)':<10} {'Alpha(R->P)':<15} {'Alpha(Q->R)':<10}\")\n",
        "    print(\"-\" * 100)\n",
        "\n",
        "    for Q, P, R in truth_table:\n",
        "        # Evaluate the knowledge base\n",
        "        KB_is_true = KB(Q, P, R)\n",
        "\n",
        "        # Evaluate each alpha\n",
        "        alpha_R_true = alpha_R(R)\n",
        "        alpha_R_implies_P_true = alpha_R_implies_P(R, P)\n",
        "        alpha_Q_implies_R_true = alpha_Q_implies_R(Q, R)\n",
        "\n",
        "        # Print the row for the truth table\n",
        "        print(f\"{str(Q):<5}     {str(P):<5}     {str(R):<5}     {str(KB_is_true):<25}     {str(alpha_R_true):<10} {str(alpha_R_implies_P_true):<15} {str(alpha_Q_implies_R_true):<10}\")\n",
        "\n",
        "    # Determine entailment for each alpha\n",
        "    entails_R = True\n",
        "    entails_R_implies_P = True\n",
        "    entails_Q_implies_R = True\n",
        "\n",
        "    for Q, P, R in truth_table:\n",
        "        # Evaluate the knowledge base\n",
        "        KB_is_true = KB(Q, P, R)\n",
        "\n",
        "        # Check entailment for alpha R\n",
        "        if KB_is_true and not alpha_R(R):\n",
        "            entails_R = False\n",
        "\n",
        "        # Check entailment for alpha R -> P\n",
        "        if KB_is_true and not alpha_R_implies_P(R, P):\n",
        "            entails_R_implies_P = False\n",
        "\n",
        "        # Check entailment for alpha Q -> R\n",
        "        if KB_is_true and not alpha_Q_implies_R(Q, R):\n",
        "            entails_Q_implies_R = False\n",
        "\n",
        "    # Print entailment results\n",
        "    if entails_R:\n",
        "        print(\"\\nKB entails alpha R\")\n",
        "    else:\n",
        "        print(\"\\nKB does not entail alpha R\")\n",
        "\n",
        "    if entails_R_implies_P:\n",
        "        print(\"KB entails alpha R -> P\")\n",
        "    else:\n",
        "        print(\"KB does not entail alpha R -> P\")\n",
        "\n",
        "    if entails_Q_implies_R:\n",
        "        print(\"KB entails alpha Q -> R\")\n",
        "    else:\n",
        "        print(\"KB does not entail alpha Q -> R\")\n",
        "\n",
        "# Run the entailment check\n",
        "check_entailment()\n"
      ],
      "metadata": {
        "colab": {
          "base_uri": "https://localhost:8080/"
        },
        "id": "iKzG8frT0U45",
        "outputId": "84df8c52-2939-4391-aaa5-cae4985f8eb6"
      },
      "execution_count": 3,
      "outputs": [
        {
          "output_type": "stream",
          "name": "stdout",
          "text": [
            "Q         P         R         KB(Q->P, P->~Q, Q U R)        Alpha(R)   Alpha(R->P)     Alpha(Q->R)\n",
            "----------------------------------------------------------------------------------------------------\n",
            "False     False     False     False                         False      True            True      \n",
            "False     False     True      True                          True       False           True      \n",
            "False     True      False     False                         False      True            True      \n",
            "False     True      True      True                          True       True            True      \n",
            "True      False     False     False                         False      True            False     \n",
            "True      False     True      False                         True       False           True      \n",
            "True      True      False     False                         False      True            False     \n",
            "True      True      True      False                         True       True            True      \n",
            "\n",
            "KB entails alpha R\n",
            "KB does not entail alpha R -> P\n",
            "KB entails alpha Q -> R\n"
          ]
        }
      ]
    },
    {
      "cell_type": "code",
      "source": [],
      "metadata": {
        "id": "wr0yt_zK08r2"
      },
      "execution_count": null,
      "outputs": []
    }
  ]
}