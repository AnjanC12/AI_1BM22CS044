{
  "nbformat": 4,
  "nbformat_minor": 0,
  "metadata": {
    "colab": {
      "provenance": []
    },
    "kernelspec": {
      "name": "python3",
      "display_name": "Python 3"
    },
    "language_info": {
      "name": "python"
    }
  },
  "cells": [
    {
      "cell_type": "code",
      "source": [
        "# Define facts and rules\n",
        "facts = {\n",
        "    \"American(Robert)\": True,\n",
        "    \"Missile(T1)\": True,\n",
        "    \"Enemy(A, America)\": True,\n",
        "    \"Enemy(Robert, America)\": False,  # We assume Robert is not an enemy for now.\n",
        "    \"Owns(A, T1)\": True\n",
        "}\n",
        "\n",
        "# Define the functions corresponding to the logical predicates\n",
        "\n",
        "# 1. American(p) ∧ weapon(q) ∧ sells(p, q, r) ∧ hostile(r) → Criminal(p)\n",
        "def criminal_rule():\n",
        "    if any(facts.get(f\"American({p})\", False) and facts.get(f\"Missile({q})\", False)\n",
        "           and facts.get(f\"Sells({p}, {q}, {r})\", False) and facts.get(f\"Hostile({r})\", False)\n",
        "           for p in [\"Robert\"] for q in [\"T1\"] for r in [\"A\"]):\n",
        "        facts[\"Criminal(Robert)\"] = True\n",
        "\n",
        "# 2. Missile(p) → Weapons(p)\n",
        "def missile_to_weapons():\n",
        "    if facts.get(\"Missile(T1)\", False):\n",
        "        facts[\"Weapons(T1)\"] = True\n",
        "\n",
        "# 3. Enemy(p, America) → Hostile(p)\n",
        "def enemy_to_hostile():\n",
        "    for p in [\"Robert\", \"A\"]:\n",
        "        if facts.get(f\"Enemy({p}, America)\", False):\n",
        "            facts[f\"Hostile({p})\"] = True\n",
        "\n",
        "# 4. Owns(A, p) → Sells(Robert, p, A)\n",
        "def owns_to_sells():\n",
        "    if facts.get(\"Owns(A, T1)\", False):\n",
        "        facts[\"Sells(Robert, T1, A)\"] = True\n",
        "\n",
        "# Apply all rules iteratively\n",
        "def forward_reasoning():\n",
        "    # Apply all the rules as long as new facts can be inferred\n",
        "    changed = True\n",
        "    while changed:\n",
        "        changed = False\n",
        "        # Store the current facts before applying rules\n",
        "        current_facts = facts.copy()\n",
        "\n",
        "        criminal_rule()\n",
        "        missile_to_weapons()\n",
        "        enemy_to_hostile()\n",
        "        owns_to_sells()\n",
        "\n",
        "        # Check if any fact was newly added\n",
        "        if facts != current_facts:\n",
        "            changed = True\n",
        "\n",
        "# Run forward reasoning\n",
        "forward_reasoning()\n",
        "\n",
        "# Output the facts\n",
        "for fact, value in facts.items():\n",
        "    if value:\n",
        "        print(f\"{fact} is True\")\n"
      ],
      "metadata": {
        "colab": {
          "base_uri": "https://localhost:8080/"
        },
        "id": "qBWPgtwsvCqC",
        "outputId": "09f66b4b-0f53-40b6-a4cb-efb9b35e57c9"
      },
      "execution_count": 7,
      "outputs": [
        {
          "output_type": "stream",
          "name": "stdout",
          "text": [
            "American(Robert) is True\n",
            "Missile(T1) is True\n",
            "Enemy(A, America) is True\n",
            "Owns(A, T1) is True\n",
            "Weapons(T1) is True\n",
            "Hostile(A) is True\n",
            "Sells(Robert, T1, A) is True\n",
            "Criminal(Robert) is True\n"
          ]
        }
      ]
    },
    {
      "cell_type": "code",
      "source": [],
      "metadata": {
        "id": "PgQADEDMwj0p"
      },
      "execution_count": null,
      "outputs": []
    }
  ]
}