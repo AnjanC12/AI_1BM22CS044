{
  "nbformat": 4,
  "nbformat_minor": 0,
  "metadata": {
    "colab": {
      "provenance": []
    },
    "kernelspec": {
      "name": "python3",
      "display_name": "Python 3"
    },
    "language_info": {
      "name": "python"
    }
  },
  "cells": [
    {
      "cell_type": "code",
      "execution_count": 1,
      "metadata": {
        "colab": {
          "base_uri": "https://localhost:8080/"
        },
        "id": "_TtFsYDK_nI3",
        "outputId": "38c92d9e-99fd-4945-a7a6-a1b672cff147"
      },
      "outputs": [
        {
          "output_type": "stream",
          "name": "stdout",
          "text": [
            "Before cleaning the room I detect all of these random dirts\n",
            "[[1, 1], [0, 1]]\n",
            "Vaccum in this location now, 0 0\n",
            "cleaned 0 0\n",
            "Vaccum in this location now, 0 1\n",
            "cleaned 0 1\n",
            "Vaccum in this location now, 1 1\n",
            "cleaned 1 1\n",
            "Room is clean now\n",
            "[[0, 0], [0, 0]]\n"
          ]
        }
      ],
      "source": [
        "import random\n",
        "\n",
        "def display(room):\n",
        "    print(room)\n",
        "\n",
        "room = [\n",
        "    [1, 1],\n",
        "    [1, 1],\n",
        "]\n",
        "\n",
        "x = 0\n",
        "y = 0\n",
        "\n",
        "while x < 2:\n",
        "    while y < 2:\n",
        "        room[x][y] = random.choice([0,1])\n",
        "        y+=1\n",
        "    x+=1\n",
        "    y=0\n",
        "\n",
        "print(\"Before cleaning the room I detect all of these random dirts\")\n",
        "display(room)\n",
        "x = 0\n",
        "y = 0\n",
        "z = 0\n",
        "while x < 2:\n",
        "    while y < 2:\n",
        "        if room[x][y] == 1:\n",
        "            print(\"Vaccum in this location now,\",x, y)\n",
        "            room[x][y] = 0\n",
        "            print(\"cleaned\", x, y)\n",
        "            z+=1\n",
        "        y+=1\n",
        "    x+=1\n",
        "    y=0\n",
        "print(\"Room is clean now\")\n",
        "display(room)"
      ]
    },
    {
      "cell_type": "code",
      "source": [],
      "metadata": {
        "id": "27aAmTuP_up4"
      },
      "execution_count": null,
      "outputs": []
    }
  ]
}