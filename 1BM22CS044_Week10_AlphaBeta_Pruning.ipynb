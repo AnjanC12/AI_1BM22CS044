{
  "nbformat": 4,
  "nbformat_minor": 0,
  "metadata": {
    "colab": {
      "provenance": []
    },
    "kernelspec": {
      "name": "python3",
      "display_name": "Python 3"
    },
    "language_info": {
      "name": "python"
    }
  },
  "cells": [
    {
      "cell_type": "code",
      "source": [
        "import math\n",
        "\n",
        "\n",
        "def alphabeta(node, depth, alpha, beta, maximizingPlayer):\n",
        "    if depth == 0 or node.isTerminal():\n",
        "        return node.getValue()\n",
        "\n",
        "    if maximizingPlayer:\n",
        "        value = -math.inf\n",
        "        for child in node.getChildren():\n",
        "            value = max(value, alphabeta(child, depth - 1, alpha, beta, False))\n",
        "            alpha = max(alpha, value)\n",
        "            if alpha >= beta:\n",
        "                break  # Beta cutoff\n",
        "        return value\n",
        "    else:\n",
        "        value = math.inf\n",
        "        for child in node.getChildren():\n",
        "            value = min(value, alphabeta(child, depth - 1, alpha, beta, True))\n",
        "            beta = min(beta, value)\n",
        "            if beta <= alpha:\n",
        "                break  # Alpha cutoff\n",
        "        return value\n",
        "\n",
        "\n",
        "class Node:\n",
        "    def __init__(self, value, children):\n",
        "        self.value = value\n",
        "        self.children = children\n",
        "\n",
        "    def getValue(self):\n",
        "        return self.value\n",
        "\n",
        "    def getChildren(self):\n",
        "        return self.children\n",
        "\n",
        "    def isTerminal(self):\n",
        "        return len(self.children) == 0\n",
        "\n",
        "root = Node(0, [\n",
        "    Node(0, [\n",
        "        Node(0, [\n",
        "            Node(10, []), Node(9, [])\n",
        "        ]),\n",
        "        Node(0, [\n",
        "            Node(14, []), Node(18, [])\n",
        "        ])\n",
        "    ]),\n",
        "    Node(0, [\n",
        "        Node(0, [\n",
        "            Node(5, []), Node(4, [])\n",
        "        ]),\n",
        "        Node(0, [\n",
        "            Node(50, []), Node(3, [])\n",
        "        ])\n",
        "    ])\n",
        "])\n",
        "\n",
        "best_value = alphabeta(root, 4, -math.inf, math.inf, True)\n",
        "print(f\"The optimal value is: {best_value}\")"
      ],
      "metadata": {
        "colab": {
          "base_uri": "https://localhost:8080/"
        },
        "id": "peSSeaOd19nL",
        "outputId": "aff8ba0d-25cb-4735-9e8f-6d99856bdb3a"
      },
      "execution_count": 9,
      "outputs": [
        {
          "output_type": "stream",
          "name": "stdout",
          "text": [
            "The optimal value is: 10\n"
          ]
        }
      ]
    },
    {
      "cell_type": "code",
      "source": [],
      "metadata": {
        "id": "EJS3RybA2fqT"
      },
      "execution_count": null,
      "outputs": []
    }
  ]
}