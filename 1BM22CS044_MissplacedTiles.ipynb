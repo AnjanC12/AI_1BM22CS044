{
  "nbformat": 4,
  "nbformat_minor": 0,
  "metadata": {
    "colab": {
      "provenance": []
    },
    "kernelspec": {
      "name": "python3",
      "display_name": "Python 3"
    },
    "language_info": {
      "name": "python"
    }
  },
  "cells": [
    {
      "cell_type": "code",
      "execution_count": 2,
      "metadata": {
        "colab": {
          "base_uri": "https://localhost:8080/"
        },
        "id": "hELBKruvg1op",
        "outputId": "de69c00f-24cb-4005-9c7b-dd0bbd306bd8"
      },
      "outputs": [
        {
          "output_type": "stream",
          "name": "stdout",
          "text": [
            "Solution Found:\n",
            "[2, 8, 3]\n",
            "[1, 6, 4]\n",
            "[0, 7, 5]\n",
            "g(n): 0\n",
            "h(n): 5\n",
            "f(n): 5\n",
            "\n",
            "[2, 8, 3]\n",
            "[1, 6, 4]\n",
            "[7, 0, 5]\n",
            "g(n): 1\n",
            "h(n): 4\n",
            "f(n): 5\n",
            "\n",
            "[2, 8, 3]\n",
            "[1, 0, 4]\n",
            "[7, 6, 5]\n",
            "g(n): 2\n",
            "h(n): 3\n",
            "f(n): 5\n",
            "\n",
            "[2, 0, 3]\n",
            "[1, 8, 4]\n",
            "[7, 6, 5]\n",
            "g(n): 3\n",
            "h(n): 3\n",
            "f(n): 6\n",
            "\n",
            "[0, 2, 3]\n",
            "[1, 8, 4]\n",
            "[7, 6, 5]\n",
            "g(n): 4\n",
            "h(n): 2\n",
            "f(n): 6\n",
            "\n",
            "[1, 2, 3]\n",
            "[0, 8, 4]\n",
            "[7, 6, 5]\n",
            "g(n): 5\n",
            "h(n): 1\n",
            "f(n): 6\n",
            "\n",
            "[1, 2, 3]\n",
            "[8, 0, 4]\n",
            "[7, 6, 5]\n",
            "g(n): 6\n",
            "h(n): 0\n",
            "f(n): 6\n",
            "\n",
            "number of steps for finding goal state is  6\n"
          ]
        }
      ],
      "source": [
        "def misplaced_tiles(state, goal):\n",
        "    return sum(1 for i in range(3) for j in range(3) if state[i][j] != goal[i][j] and state[i][j] != 0)\n",
        "\n",
        "def get_neighbors(state):\n",
        "    neighbors = []\n",
        "    blank = [(i, j) for i in range(3) for j in range(3) if state[i][j] == 0][0]\n",
        "    possible_moves = [(-1, 0), (1, 0), (0, -1), (0, 1)]\n",
        "    x, y = blank\n",
        "\n",
        "    for dx, dy in possible_moves:\n",
        "        nx, ny = x + dx, y + dy\n",
        "        if 0 <= nx < 3 and 0 <= ny < 3:\n",
        "            new_state = [row[:] for row in state]\n",
        "            new_state[x][y], new_state[nx][ny] = new_state[nx][ny], new_state[x][y]\n",
        "            neighbors.append(new_state)\n",
        "\n",
        "    return neighbors\n",
        "\n",
        "def print_path(path):\n",
        "    for i, state in enumerate(path):\n",
        "        for row in state:\n",
        "            print(row)\n",
        "        print(\"g(n):\", i)  # g(n) is the cost to reach the current state from the start state\n",
        "        h = misplaced_tiles(state, goal)\n",
        "        print(\"h(n):\", h)\n",
        "        print(\"f(n):\", i + h)\n",
        "        print()\n",
        "\n",
        "def misplaced(start, goal):\n",
        "    open_list = [(start, 0, [])]\n",
        "    visited = set()\n",
        "\n",
        "    while open_list:\n",
        "        current, g, path = open_list.pop(0)\n",
        "\n",
        "\n",
        "        path = path + [current]\n",
        "\n",
        "        if current == goal:\n",
        "            print(\"Solution Found:\")\n",
        "            print_path(path)\n",
        "            return g\n",
        "\n",
        "        for neighbor in get_neighbors(current):\n",
        "            neighbor_tuple = tuple(map(tuple, neighbor))\n",
        "            if neighbor_tuple not in visited:\n",
        "                visited.add(neighbor_tuple)\n",
        "                h = misplaced_tiles(neighbor, goal)\n",
        "                open_list.append((neighbor, g + 1, path))\n",
        "\n",
        "        open_list.sort(key=lambda x: x[1] + misplaced_tiles(x[0], goal))\n",
        "    return -1\n",
        "\n",
        "start = [[2,8,3], [1,6,4], [0,7,5]]\n",
        "goal = [[1,2,3], [8,0,4], [7,6,5]]\n",
        "ans=misplaced(start, goal)\n",
        "print(\"number of steps for finding goal state is \",ans)"
      ]
    },
    {
      "cell_type": "code",
      "source": [],
      "metadata": {
        "id": "xpLrNZXwhAmA"
      },
      "execution_count": null,
      "outputs": []
    }
  ]
}